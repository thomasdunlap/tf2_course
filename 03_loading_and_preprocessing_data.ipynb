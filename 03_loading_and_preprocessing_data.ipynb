{
 "cells": [
  {
   "cell_type": "markdown",
   "metadata": {},
   "source": [
    "# Loading and Preprocessing Data"
   ]
  },
  {
   "cell_type": "markdown",
   "metadata": {},
   "source": [
    "In this notebook you will learn how to use TensorFlow's Data API to load and preprocess data efficiently, then you will learn about the efficient `TFRecord` binary format for storing your data."
   ]
  },
  {
   "cell_type": "markdown",
   "metadata": {},
   "source": [
    "## Imports"
   ]
  },
  {
   "cell_type": "code",
   "execution_count": 1,
   "metadata": {},
   "outputs": [],
   "source": [
    "%matplotlib inline"
   ]
  },
  {
   "cell_type": "code",
   "execution_count": 2,
   "metadata": {},
   "outputs": [],
   "source": [
    "import matplotlib as mpl\n",
    "import matplotlib.pyplot as plt\n",
    "import numpy as np\n",
    "import os\n",
    "import pandas as pd\n",
    "import sklearn\n",
    "import sys\n",
    "import tensorflow as tf\n",
    "from tensorflow import keras\n",
    "import time"
   ]
  },
  {
   "cell_type": "code",
   "execution_count": 3,
   "metadata": {},
   "outputs": [
    {
     "name": "stdout",
     "output_type": "stream",
     "text": [
      "python 3.7.2 (default, Dec 29 2018, 06:19:36) \n",
      "[GCC 7.3.0]\n",
      "matplotlib 3.1.1\n",
      "numpy 1.17.4\n",
      "pandas 0.25.3\n",
      "sklearn 0.21.3\n",
      "tensorflow 2.0.0\n",
      "tensorflow_core.keras 2.2.4-tf\n"
     ]
    }
   ],
   "source": [
    "print(\"python\", sys.version)\n",
    "for module in mpl, np, pd, sklearn, tf, keras:\n",
    "    print(module.__name__, module.__version__)"
   ]
  },
  {
   "cell_type": "code",
   "execution_count": 4,
   "metadata": {},
   "outputs": [],
   "source": [
    "assert sys.version_info >= (3, 5) # Python ≥3.5 required\n",
    "assert tf.__version__ >= \"2.0\"    # TensorFlow ≥2.0 required"
   ]
  },
  {
   "cell_type": "markdown",
   "metadata": {},
   "source": [
    "## Code examples"
   ]
  },
  {
   "cell_type": "markdown",
   "metadata": {},
   "source": [
    "You can browse through the code examples or jump directly to the exercises."
   ]
  },
  {
   "cell_type": "code",
   "execution_count": 5,
   "metadata": {},
   "outputs": [
    {
     "data": {
      "text/plain": [
       "<TensorSliceDataset shapes: (), types: tf.int64>"
      ]
     },
     "execution_count": 5,
     "metadata": {},
     "output_type": "execute_result"
    }
   ],
   "source": [
    "dataset = tf.data.Dataset.from_tensor_slices(np.arange(10))\n",
    "dataset"
   ]
  },
  {
   "cell_type": "code",
   "execution_count": 6,
   "metadata": {},
   "outputs": [
    {
     "name": "stdout",
     "output_type": "stream",
     "text": [
      "tf.Tensor(0, shape=(), dtype=int64)\n",
      "tf.Tensor(1, shape=(), dtype=int64)\n",
      "tf.Tensor(2, shape=(), dtype=int64)\n",
      "tf.Tensor(3, shape=(), dtype=int64)\n",
      "tf.Tensor(4, shape=(), dtype=int64)\n",
      "tf.Tensor(5, shape=(), dtype=int64)\n",
      "tf.Tensor(6, shape=(), dtype=int64)\n",
      "tf.Tensor(7, shape=(), dtype=int64)\n",
      "tf.Tensor(8, shape=(), dtype=int64)\n",
      "tf.Tensor(9, shape=(), dtype=int64)\n"
     ]
    }
   ],
   "source": [
    "for item in dataset:\n",
    "    print(item)"
   ]
  },
  {
   "cell_type": "code",
   "execution_count": 7,
   "metadata": {},
   "outputs": [],
   "source": [
    "dataset = dataset.repeat(3).batch(7)"
   ]
  },
  {
   "cell_type": "code",
   "execution_count": 8,
   "metadata": {
    "tags": [
     "raises-exception"
    ]
   },
   "outputs": [
    {
     "name": "stdout",
     "output_type": "stream",
     "text": [
      "tf.Tensor([0 1 2 3 4 5 6], shape=(7,), dtype=int64)\n",
      "tf.Tensor([7 8 9 0 1 2 3], shape=(7,), dtype=int64)\n",
      "tf.Tensor([4 5 6 7 8 9 0], shape=(7,), dtype=int64)\n",
      "tf.Tensor([1 2 3 4 5 6 7], shape=(7,), dtype=int64)\n",
      "tf.Tensor([8 9], shape=(2,), dtype=int64)\n"
     ]
    }
   ],
   "source": [
    "for item in dataset:\n",
    "    print(item)"
   ]
  },
  {
   "cell_type": "code",
   "execution_count": 9,
   "metadata": {},
   "outputs": [],
   "source": [
    "dataset = dataset.interleave(\n",
    "    lambda v: tf.data.Dataset.from_tensor_slices(v),\n",
    "    cycle_length=3,\n",
    "    block_length=2)"
   ]
  },
  {
   "cell_type": "code",
   "execution_count": 10,
   "metadata": {
    "tags": [
     "raises-exception"
    ]
   },
   "outputs": [
    {
     "name": "stdout",
     "output_type": "stream",
     "text": [
      "0 1 7 8 4 5 2 3 9 0 6 7 4 5 1 2 8 9 6 3 0 1 2 8 9 3 4 5 6 7 "
     ]
    }
   ],
   "source": [
    "for item in dataset:\n",
    "    print(item.numpy(), end=\" \")"
   ]
  },
  {
   "cell_type": "code",
   "execution_count": 11,
   "metadata": {},
   "outputs": [
    {
     "data": {
      "text/plain": [
       "<TensorSliceDataset shapes: ((2,), ()), types: (tf.int64, tf.string)>"
      ]
     },
     "execution_count": 11,
     "metadata": {},
     "output_type": "execute_result"
    }
   ],
   "source": [
    "X = np.array([[2, 3], [4, 5], [6, 7]])\n",
    "y = np.array([\"cat\", \"dog\", \"fox\"])\n",
    "dataset = tf.data.Dataset.from_tensor_slices((X, y))\n",
    "dataset"
   ]
  },
  {
   "cell_type": "code",
   "execution_count": 12,
   "metadata": {},
   "outputs": [
    {
     "name": "stdout",
     "output_type": "stream",
     "text": [
      "[2 3] b'cat'\n",
      "[4 5] b'dog'\n",
      "[6 7] b'fox'\n"
     ]
    }
   ],
   "source": [
    "for item_x, item_y in dataset:\n",
    "    print(item_x.numpy(), item_y.numpy())"
   ]
  },
  {
   "cell_type": "code",
   "execution_count": 13,
   "metadata": {},
   "outputs": [
    {
     "data": {
      "text/plain": [
       "<TensorSliceDataset shapes: {features: (2,), label: ()}, types: {features: tf.int64, label: tf.string}>"
      ]
     },
     "execution_count": 13,
     "metadata": {},
     "output_type": "execute_result"
    }
   ],
   "source": [
    "dataset = tf.data.Dataset.from_tensor_slices({\"features\": X, \"label\": y})\n",
    "dataset"
   ]
  },
  {
   "cell_type": "code",
   "execution_count": 14,
   "metadata": {},
   "outputs": [
    {
     "name": "stdout",
     "output_type": "stream",
     "text": [
      "[2 3] b'cat'\n",
      "[4 5] b'dog'\n",
      "[6 7] b'fox'\n"
     ]
    }
   ],
   "source": [
    "for item in dataset:\n",
    "    print(item[\"features\"].numpy(), item[\"label\"].numpy())"
   ]
  },
  {
   "cell_type": "markdown",
   "metadata": {},
   "source": [
    "## Split the California dataset to multiple CSV files"
   ]
  },
  {
   "cell_type": "markdown",
   "metadata": {},
   "source": [
    "Let's start by loading and preparing the California housing dataset. We first load it, then split it into a training set, a validation set and a test set, and finally we scale it:"
   ]
  },
  {
   "cell_type": "code",
   "execution_count": 15,
   "metadata": {},
   "outputs": [],
   "source": [
    "from sklearn.datasets import fetch_california_housing\n",
    "from sklearn.model_selection import train_test_split\n",
    "from sklearn.preprocessing import StandardScaler\n",
    "\n",
    "housing = fetch_california_housing()\n",
    "X_train_full, X_test, y_train_full, y_test = train_test_split(\n",
    "    housing.data, housing.target.reshape(-1, 1), random_state=42)\n",
    "X_train, X_valid, y_train, y_valid = train_test_split(\n",
    "    X_train_full, y_train_full, random_state=42)\n",
    "\n",
    "scaler = StandardScaler()\n",
    "X_train_scaled = scaler.fit_transform(X_train)\n",
    "X_valid_scaled = scaler.transform(X_valid)\n",
    "X_test_scaled = scaler.transform(X_test)"
   ]
  },
  {
   "cell_type": "markdown",
   "metadata": {},
   "source": [
    "For very large datasets that do not fit in memory, you will typically want to split it into many files first, then have TensorFlow read these files in parallel. To demonstrate this, let's start by splitting the scaled housing dataset and saving it to 20 CSV files:"
   ]
  },
  {
   "cell_type": "code",
   "execution_count": 16,
   "metadata": {},
   "outputs": [],
   "source": [
    "def save_to_multiple_csv_files(data, name_prefix, header=None, n_parts=10):\n",
    "    housing_dir = os.path.join(\"datasets\", \"housing\")\n",
    "    os.makedirs(housing_dir, exist_ok=True)\n",
    "    path_format = os.path.join(housing_dir, \"my_{}_{:02d}.csv\")\n",
    "\n",
    "    filenames = []\n",
    "    m = len(data)\n",
    "    for file_idx, row_indices in enumerate(np.array_split(np.arange(m), n_parts)):\n",
    "        part_csv = path_format.format(name_prefix, file_idx)\n",
    "        filenames.append(part_csv)\n",
    "        with open(part_csv, \"wt\", encoding=\"utf-8\") as f:\n",
    "            if header is not None:\n",
    "                f.write(header)\n",
    "                f.write(\"\\n\")\n",
    "            for row_idx in row_indices:\n",
    "                f.write(\",\".join([repr(col) for col in data[row_idx]]))\n",
    "                f.write(\"\\n\")\n",
    "    return filenames"
   ]
  },
  {
   "cell_type": "code",
   "execution_count": 17,
   "metadata": {},
   "outputs": [],
   "source": [
    "train_data = np.c_[X_train_scaled, y_train]\n",
    "valid_data = np.c_[X_valid_scaled, y_valid]\n",
    "test_data = np.c_[X_test_scaled, y_test]\n",
    "header_cols = [\"Scaled\" + name for name in housing.feature_names] + [\"MedianHouseValue\"]\n",
    "header = \",\".join(header_cols)\n",
    "\n",
    "train_filenames = save_to_multiple_csv_files(train_data, \"train\", header, n_parts=20)\n",
    "valid_filenames = save_to_multiple_csv_files(valid_data, \"valid\", header, n_parts=10)\n",
    "test_filenames = save_to_multiple_csv_files(test_data, \"test\", header, n_parts=10)"
   ]
  },
  {
   "cell_type": "markdown",
   "metadata": {},
   "source": [
    "Okay, now let's take a peek at the first few lines of one of these CSV files:"
   ]
  },
  {
   "cell_type": "code",
   "execution_count": 18,
   "metadata": {},
   "outputs": [
    {
     "name": "stdout",
     "output_type": "stream",
     "text": [
      "ScaledMedInc,ScaledHouseAge,ScaledAveRooms,ScaledAveBedrms,ScaledPopulation,ScaledAveOccup,ScaledLatitude,ScaledLongitude,MedianHouseValue\n",
      "-0.1939788334343112,-1.0778131900560315,-0.9433854492905827,0.01485313784785944,0.020733351231179677,-0.5729162417603235,0.9292604730832086,-1.4221552292446311,1.442\n",
      "0.7519831792363448,-1.8688949973875395,0.4054779316683507,-0.2332768194594582,1.861464900604635,0.20516532460775205,-0.9165473773933427,1.096669692658571,1.687\n"
     ]
    }
   ],
   "source": [
    "with open(train_filenames[0]) as f:\n",
    "    for i in range(3):\n",
    "        print(f.readline(), end=\"\")"
   ]
  },
  {
   "cell_type": "markdown",
   "metadata": {},
   "source": [
    "![Exercise](https://c1.staticflickr.com/9/8101/8553474140_c50cf08708_b.jpg)"
   ]
  },
  {
   "cell_type": "markdown",
   "metadata": {},
   "source": [
    "## Exercise 1 – Data API"
   ]
  },
  {
   "cell_type": "markdown",
   "metadata": {},
   "source": [
    "### 1.1)\n",
    "Use `tf.data.Dataset.list_files()` to create a dataset that will simply list the training filenames. Iterate through its items and print them."
   ]
  },
  {
   "cell_type": "code",
   "execution_count": 19,
   "metadata": {},
   "outputs": [
    {
     "data": {
      "text/plain": [
       "<DatasetV1Adapter shapes: (), types: tf.string>"
      ]
     },
     "execution_count": 19,
     "metadata": {},
     "output_type": "execute_result"
    }
   ],
   "source": [
    "dset = tf.data.Dataset.list_files(train_filenames)\n",
    "dset"
   ]
  },
  {
   "cell_type": "code",
   "execution_count": 20,
   "metadata": {},
   "outputs": [
    {
     "name": "stdout",
     "output_type": "stream",
     "text": [
      "tf.Tensor(b'datasets/housing/my_train_08.csv', shape=(), dtype=string)\n",
      "tf.Tensor(b'datasets/housing/my_train_11.csv', shape=(), dtype=string)\n",
      "tf.Tensor(b'datasets/housing/my_train_17.csv', shape=(), dtype=string)\n",
      "tf.Tensor(b'datasets/housing/my_train_03.csv', shape=(), dtype=string)\n",
      "tf.Tensor(b'datasets/housing/my_train_13.csv', shape=(), dtype=string)\n",
      "tf.Tensor(b'datasets/housing/my_train_01.csv', shape=(), dtype=string)\n",
      "tf.Tensor(b'datasets/housing/my_train_05.csv', shape=(), dtype=string)\n",
      "tf.Tensor(b'datasets/housing/my_train_07.csv', shape=(), dtype=string)\n",
      "tf.Tensor(b'datasets/housing/my_train_12.csv', shape=(), dtype=string)\n",
      "tf.Tensor(b'datasets/housing/my_train_06.csv', shape=(), dtype=string)\n",
      "tf.Tensor(b'datasets/housing/my_train_15.csv', shape=(), dtype=string)\n",
      "tf.Tensor(b'datasets/housing/my_train_09.csv', shape=(), dtype=string)\n",
      "tf.Tensor(b'datasets/housing/my_train_16.csv', shape=(), dtype=string)\n",
      "tf.Tensor(b'datasets/housing/my_train_14.csv', shape=(), dtype=string)\n",
      "tf.Tensor(b'datasets/housing/my_train_00.csv', shape=(), dtype=string)\n",
      "tf.Tensor(b'datasets/housing/my_train_19.csv', shape=(), dtype=string)\n",
      "tf.Tensor(b'datasets/housing/my_train_02.csv', shape=(), dtype=string)\n",
      "tf.Tensor(b'datasets/housing/my_train_18.csv', shape=(), dtype=string)\n",
      "tf.Tensor(b'datasets/housing/my_train_10.csv', shape=(), dtype=string)\n",
      "tf.Tensor(b'datasets/housing/my_train_04.csv', shape=(), dtype=string)\n"
     ]
    }
   ],
   "source": [
    "for f in dset:\n",
    "    print(f)"
   ]
  },
  {
   "cell_type": "code",
   "execution_count": null,
   "metadata": {},
   "outputs": [],
   "source": []
  },
  {
   "cell_type": "markdown",
   "metadata": {},
   "source": [
    "### 1.2)\n",
    "Use the filename dataset's `interleave()` method to create a dataset that will read from these CSV files, interleaving their lines. The first argument needs to be a function (e.g., a `lambda`) that creates a `tf.data.TextLineDataset` based on a filename, and you must also set `cycle_length=5` so that the reader interleaves data from 5 files at a time. Print the first 15 elements from this dataset to see that you do indeed get interleaved lines from multiple CSV files (you should get the first line from 5 files, then the second line from these same files, then the third lines). **Tip**: To get only the first 15 elements, you can call the dataset's `take()` method."
   ]
  },
  {
   "cell_type": "code",
   "execution_count": 21,
   "metadata": {},
   "outputs": [
    {
     "data": {
      "text/plain": [
       "<DatasetV1Adapter shapes: (), types: tf.string>"
      ]
     },
     "execution_count": 21,
     "metadata": {},
     "output_type": "execute_result"
    }
   ],
   "source": [
    "dataset = dset.interleave(lambda x: tf.data.TextLineDataset(x), cycle_length=5)\n",
    "dataset"
   ]
  },
  {
   "cell_type": "code",
   "execution_count": 22,
   "metadata": {},
   "outputs": [
    {
     "name": "stdout",
     "output_type": "stream",
     "text": [
      "b'ScaledMedInc,ScaledHouseAge,ScaledAveRooms,ScaledAveBedrms,ScaledPopulation,ScaledAveOccup,ScaledLatitude,ScaledLongitude,MedianHouseValue'\n",
      "b'ScaledMedInc,ScaledHouseAge,ScaledAveRooms,ScaledAveBedrms,ScaledPopulation,ScaledAveOccup,ScaledLatitude,ScaledLongitude,MedianHouseValue'\n",
      "b'ScaledMedInc,ScaledHouseAge,ScaledAveRooms,ScaledAveBedrms,ScaledPopulation,ScaledAveOccup,ScaledLatitude,ScaledLongitude,MedianHouseValue'\n",
      "b'ScaledMedInc,ScaledHouseAge,ScaledAveRooms,ScaledAveBedrms,ScaledPopulation,ScaledAveOccup,ScaledLatitude,ScaledLongitude,MedianHouseValue'\n",
      "b'ScaledMedInc,ScaledHouseAge,ScaledAveRooms,ScaledAveBedrms,ScaledPopulation,ScaledAveOccup,ScaledLatitude,ScaledLongitude,MedianHouseValue'\n",
      "b'0.040351161842169386,0.9789995090058892,-0.07691011512531241,-0.2752211829745268,-0.4638618162042714,0.12743389367534086,-0.7806884239318712,0.7568282349414766,1.698'\n",
      "b'-1.1704236483514832,0.42524224387383364,-0.3924748357220255,-0.02568858296662803,-0.06048881430884885,0.1097421245508374,1.074489009542021,-1.3821738812779074,1.052'\n",
      "b'-0.8336986730201256,-0.28673138272452353,0.1459555209377064,-0.3026507343729073,-0.4702500764152849,0.06980864520355637,0.282759246266548,0.09213832499479274,1.328'\n",
      "b'1.079175731872057,-0.2076232019913727,0.29038221171575174,-0.19911096326528077,0.04993682648152701,-0.16375703079978124,-0.5370792660009547,-0.08278007235959324,4.384'\n",
      "b'-0.024176007174509982,0.5043504246069844,0.00212128454489414,-0.30513623525742406,-0.2466609690298131,-0.03432783615893503,1.0838585925393653,-1.2322438264027185,1.598'\n",
      "b'-0.6061775510976777,-0.8404886478565791,0.6388150598489173,1.1032179099732906,-0.388115302273683,-0.22368679653603313,1.2993590014782521,-0.41762386158085274,0.919'\n",
      "b'-0.13704617700482194,-1.7106786359212378,0.12184594280275339,-0.06307880222008,2.714753943075721,0.056106892772399004,-1.1226782033348852,1.1316533721294526,1.709'\n",
      "b'-0.6321560217407564,-0.2076232019913727,-0.3378586079524168,-0.009908715111683104,-0.4894148570483253,-0.6858276626908739,-0.9540257093827135,0.9367443007917048,0.741'\n",
      "b'1.288836655227388,-0.8404886478565791,0.3436545033445117,-0.2506770906876236,-0.3068931367336545,0.05591751260913,-1.221058824806986,1.1616393831044847,2.783'\n",
      "b'0.41326791784765465,-0.3658395634576743,-0.07742256595420528,-0.15877566648584598,0.45969808858796307,-0.298086570677949,-0.9352865433880281,0.8417885993707449,2.455'\n"
     ]
    }
   ],
   "source": [
    "for f in dataset.take(15):\n",
    "    print(f.numpy())"
   ]
  },
  {
   "cell_type": "code",
   "execution_count": null,
   "metadata": {},
   "outputs": [],
   "source": []
  },
  {
   "cell_type": "markdown",
   "metadata": {},
   "source": [
    "### 1.3)\n",
    "We do not care about the header lines, so let's skip them. You can use the `skip()` method for this. Print the first five elements of your final dataset to make sure it does not print any header lines. **Tip**: make sure to call `skip()` for each `TextLineDataset`, not for the interleave dataset."
   ]
  },
  {
   "cell_type": "code",
   "execution_count": null,
   "metadata": {},
   "outputs": [],
   "source": []
  },
  {
   "cell_type": "code",
   "execution_count": null,
   "metadata": {},
   "outputs": [],
   "source": []
  },
  {
   "cell_type": "code",
   "execution_count": null,
   "metadata": {},
   "outputs": [],
   "source": []
  },
  {
   "cell_type": "markdown",
   "metadata": {},
   "source": [
    "### 1.4)\n",
    "We need to parse these CSV lines. First, experiment with the `tf.io.decode_csv()` function using the example below (e.g., look at the types, try changing or removing some field values, etc.).\n",
    "* You need to pass it the line to parse, and set the `record_defaults` argument. This must be an array containing the default value for each field, in case it is missing. This also tells TensorFlow the number of fields to expect, and the type of each field. If you do not want a default value for a given field, you must use an empty tensor of the appropriate type (e.g., `tf.constant([])` for a `float32` field, or `tf.constant([], dtype=tf.int64` for an `int64` field)."
   ]
  },
  {
   "cell_type": "code",
   "execution_count": null,
   "metadata": {},
   "outputs": [],
   "source": [
    "record_defaults=[0, np.nan, tf.constant(np.nan, dtype=tf.float64), \"Hello\", tf.constant([])]\n",
    "parsed_fields = tf.io.decode_csv('1,2,3,4,5', record_defaults)\n",
    "parsed_fields"
   ]
  },
  {
   "cell_type": "code",
   "execution_count": null,
   "metadata": {},
   "outputs": [],
   "source": []
  },
  {
   "cell_type": "code",
   "execution_count": null,
   "metadata": {},
   "outputs": [],
   "source": []
  },
  {
   "cell_type": "code",
   "execution_count": null,
   "metadata": {},
   "outputs": [],
   "source": []
  },
  {
   "cell_type": "markdown",
   "metadata": {},
   "source": [
    "### 1.5)\n",
    "Now you are ready to create a function to parse a CSV line:\n",
    "* Create a `parse_csv_line()` function that takes a single line as argument.\n",
    "* Call `tf.io.decode_csv()` to parse that line.\n",
    "* Call `tf.stack()` to create a single tensor containing all the input features (i.e., all fields except the last one).\n",
    "* Reshape the labels field (i.e., the last field) to give it a shape of `[1]` instead of `[]` (i.e., it must not be a scalar). You can use `tf.reshape(label_field, [1])`, or call `tf.stack([label_field])`, or use `label_field[tf.newaxis]`.\n",
    "* Return a tuple with both tensors (input features and labels).\n",
    "* Try calling it on a single line from one of the CSV files."
   ]
  },
  {
   "cell_type": "code",
   "execution_count": null,
   "metadata": {},
   "outputs": [],
   "source": []
  },
  {
   "cell_type": "code",
   "execution_count": null,
   "metadata": {},
   "outputs": [],
   "source": []
  },
  {
   "cell_type": "code",
   "execution_count": null,
   "metadata": {},
   "outputs": [],
   "source": []
  },
  {
   "cell_type": "markdown",
   "metadata": {},
   "source": [
    "### 1.6)\n",
    "Now create a `csv_reader_dataset()` function that takes a list of CSV filenames and returns a dataset that will provide batches of parsed and shuffled data from these files, including the features and labels, repeating the whole data once per epoch.\n",
    "\n",
    "**Tips**:\n",
    "* Copy your code from above to get a dataset that returns interleaved lines from the given CSV files. Your function will need an argument for the `filenames`, and another for the number of files read in parallel at any given time (e.g., `n_reader`).\n",
    "* The training algorithm will need to go through the dataset many times, so you should call `repeat()` on the filenames dataset. You do not need to specify a number of repetitions, as we will tell Keras the number of iterations to run later on.\n",
    "* Gradient descent works best when the data is IID (independent and identically distributed), so you should call the `shuffle()` method. It will require the shuffling buffer size, which you can add as an argument to your function (e.g., `shuffle_buffer_size`).\n",
    "* Use the `map()` method to apply the `parse_csv_line()` function to each CSV line. You can set the `num_parallel_calls` argument to the number of threads that will parse lines in parallel. This should probably be an argument of your function (e.g., `n_parse_threads`).\n",
    "* Use the `batch()` method to bundle records into batches. You will need to specify the batch size. This should probably be an argument of your function (e.g., `batch_size`).\n",
    "* Call `prefetch(1)` on your final dataset to ensure that the next batch is loaded and parsed while the rest of your computations take place in parallel (to avoid blocking for I/O).\n",
    "* Return the resulting dataset.\n",
    "* Give every argument a reasonable default value (except for the filenames).\n",
    "* Test your function by calling it with a small batch size and printing the first couple of batches.\n",
    "* For higher performance, you can replace `dataset.map(...).batch(...)` with `dataset.apply(map_and_batch(...))`, where `map_and_batch()` is an experimental function located in `tf.data.experimental`. It will be deprecated in future versions of TensorFlow when such pipeline optimizations become automatic."
   ]
  },
  {
   "cell_type": "code",
   "execution_count": null,
   "metadata": {},
   "outputs": [],
   "source": []
  },
  {
   "cell_type": "code",
   "execution_count": null,
   "metadata": {},
   "outputs": [],
   "source": []
  },
  {
   "cell_type": "code",
   "execution_count": null,
   "metadata": {},
   "outputs": [],
   "source": []
  },
  {
   "cell_type": "markdown",
   "metadata": {},
   "source": [
    "### 1.7)\n",
    "Build a training set, a validation set and a test set using your `csv_reader_dataset()` function."
   ]
  },
  {
   "cell_type": "code",
   "execution_count": null,
   "metadata": {},
   "outputs": [],
   "source": []
  },
  {
   "cell_type": "code",
   "execution_count": null,
   "metadata": {},
   "outputs": [],
   "source": []
  },
  {
   "cell_type": "code",
   "execution_count": null,
   "metadata": {},
   "outputs": [],
   "source": []
  },
  {
   "cell_type": "markdown",
   "metadata": {},
   "source": [
    "### 1.8)\n",
    "Build and compile a Keras model for this regression task, and use your datasets to train it, evaluate it and make predictions for the test set.\n",
    "\n",
    "**Tips**\n",
    "* Instead of passing `X_train_scaled, y_train` to the `fit()` method, pass the training dataset and specify the `steps_per_epoch` argument. This should be set to the number of instances in the training set divided by the batch size.\n",
    "* Similarly, pass the validation dataset instead of `(X_valid_scaled, y_valid)` and `y_valid`, and set the `validation_steps`.\n",
    "* For the `evaluate()` and `predict()` methods, you need to pass the test dataset, and specify the `steps` argument.\n",
    "* The `predict()` method ignores the labels in the test dataset, but if you want to be extra sure that it does not cheat, you can create a new dataset by stripping away the labels from the test set (e.g., `test_set.map(lambda X, y: X)`)."
   ]
  },
  {
   "cell_type": "code",
   "execution_count": null,
   "metadata": {},
   "outputs": [],
   "source": []
  },
  {
   "cell_type": "code",
   "execution_count": null,
   "metadata": {},
   "outputs": [],
   "source": []
  },
  {
   "cell_type": "code",
   "execution_count": null,
   "metadata": {},
   "outputs": [],
   "source": []
  },
  {
   "cell_type": "markdown",
   "metadata": {},
   "source": [
    "![Exercise solution](https://camo.githubusercontent.com/250388fde3fac9135ead9471733ee28e049f7a37/68747470733a2f2f75706c6f61642e77696b696d656469612e6f72672f77696b6970656469612f636f6d6d6f6e732f302f30362f46696c6f735f736567756e646f5f6c6f676f5f253238666c69707065642532392e6a7067)"
   ]
  },
  {
   "cell_type": "markdown",
   "metadata": {},
   "source": [
    "## Exercise 1 – Solution"
   ]
  },
  {
   "cell_type": "markdown",
   "metadata": {},
   "source": [
    "### 1.1)\n",
    "Use `tf.data.Dataset.list_files()` to create a dataset that will simply list the training filenames. Iterate through its items and print them."
   ]
  },
  {
   "cell_type": "code",
   "execution_count": 23,
   "metadata": {},
   "outputs": [],
   "source": [
    "filename_dataset = tf.data.Dataset.list_files(train_filenames)"
   ]
  },
  {
   "cell_type": "code",
   "execution_count": 24,
   "metadata": {},
   "outputs": [
    {
     "name": "stdout",
     "output_type": "stream",
     "text": [
      "tf.Tensor(b'datasets/housing/my_train_14.csv', shape=(), dtype=string)\n",
      "tf.Tensor(b'datasets/housing/my_train_05.csv', shape=(), dtype=string)\n",
      "tf.Tensor(b'datasets/housing/my_train_15.csv', shape=(), dtype=string)\n",
      "tf.Tensor(b'datasets/housing/my_train_08.csv', shape=(), dtype=string)\n",
      "tf.Tensor(b'datasets/housing/my_train_17.csv', shape=(), dtype=string)\n",
      "tf.Tensor(b'datasets/housing/my_train_00.csv', shape=(), dtype=string)\n",
      "tf.Tensor(b'datasets/housing/my_train_04.csv', shape=(), dtype=string)\n",
      "tf.Tensor(b'datasets/housing/my_train_10.csv', shape=(), dtype=string)\n",
      "tf.Tensor(b'datasets/housing/my_train_02.csv', shape=(), dtype=string)\n",
      "tf.Tensor(b'datasets/housing/my_train_13.csv', shape=(), dtype=string)\n",
      "tf.Tensor(b'datasets/housing/my_train_07.csv', shape=(), dtype=string)\n",
      "tf.Tensor(b'datasets/housing/my_train_18.csv', shape=(), dtype=string)\n",
      "tf.Tensor(b'datasets/housing/my_train_01.csv', shape=(), dtype=string)\n",
      "tf.Tensor(b'datasets/housing/my_train_11.csv', shape=(), dtype=string)\n",
      "tf.Tensor(b'datasets/housing/my_train_03.csv', shape=(), dtype=string)\n",
      "tf.Tensor(b'datasets/housing/my_train_09.csv', shape=(), dtype=string)\n",
      "tf.Tensor(b'datasets/housing/my_train_16.csv', shape=(), dtype=string)\n",
      "tf.Tensor(b'datasets/housing/my_train_06.csv', shape=(), dtype=string)\n",
      "tf.Tensor(b'datasets/housing/my_train_19.csv', shape=(), dtype=string)\n",
      "tf.Tensor(b'datasets/housing/my_train_12.csv', shape=(), dtype=string)\n"
     ]
    }
   ],
   "source": [
    "for filename in filename_dataset:\n",
    "    print(filename)"
   ]
  },
  {
   "cell_type": "markdown",
   "metadata": {},
   "source": [
    "### 1.2)\n",
    "Use the filename dataset's `interleave()` method to create a dataset that will read from these CSV files, interleaving their lines. The first argument needs to be a function (e.g., a `lambda`) that creates a `tf.data.TextLineDataset` based on a filename, and you must also set `cycle_length=5` so that the reader interleaves data from 5 files at a time. Print the first 15 elements from this dataset to see that you do indeed get interleaved lines from multiple CSV files (you should get the first line from 5 files, then the second line from these same files, then the third lines). **Tip**: To get only the first 15 elements, you can call the dataset's `take()` method."
   ]
  },
  {
   "cell_type": "code",
   "execution_count": 25,
   "metadata": {},
   "outputs": [],
   "source": [
    "n_readers = 5\n",
    "dataset = filename_dataset.interleave(\n",
    "    lambda filename: tf.data.TextLineDataset(filename),\n",
    "    cycle_length=n_readers)"
   ]
  },
  {
   "cell_type": "code",
   "execution_count": 26,
   "metadata": {},
   "outputs": [
    {
     "name": "stdout",
     "output_type": "stream",
     "text": [
      "b'ScaledMedInc,ScaledHouseAge,ScaledAveRooms,ScaledAveBedrms,ScaledPopulation,ScaledAveOccup,ScaledLatitude,ScaledLongitude,MedianHouseValue'\n",
      "b'ScaledMedInc,ScaledHouseAge,ScaledAveRooms,ScaledAveBedrms,ScaledPopulation,ScaledAveOccup,ScaledLatitude,ScaledLongitude,MedianHouseValue'\n",
      "b'ScaledMedInc,ScaledHouseAge,ScaledAveRooms,ScaledAveBedrms,ScaledPopulation,ScaledAveOccup,ScaledLatitude,ScaledLongitude,MedianHouseValue'\n",
      "b'ScaledMedInc,ScaledHouseAge,ScaledAveRooms,ScaledAveBedrms,ScaledPopulation,ScaledAveOccup,ScaledLatitude,ScaledLongitude,MedianHouseValue'\n",
      "b'ScaledMedInc,ScaledHouseAge,ScaledAveRooms,ScaledAveBedrms,ScaledPopulation,ScaledAveOccup,ScaledLatitude,ScaledLongitude,MedianHouseValue'\n",
      "b'1.079175731872057,-0.2076232019913727,0.29038221171575174,-0.19911096326528077,0.04993682648152701,-0.16375703079978124,-0.5370792660009547,-0.08278007235959324,4.384'\n",
      "b'-0.1939788334343112,-1.0778131900560315,-0.9433854492905827,0.01485313784785944,0.020733351231179677,-0.5729162417603235,0.9292604730832086,-1.4221552292446311,1.442'\n",
      "b'-1.1704236483514832,0.42524224387383364,-0.3924748357220255,-0.02568858296662803,-0.06048881430884885,0.1097421245508374,1.074489009542021,-1.3821738812779074,1.052'\n",
      "b'0.4422318175767328,-1.7106786359212378,0.7877379252704605,0.03910036017618421,-0.5277444183144062,-0.11205269762502054,-0.5417640574996252,1.1566417146086496,1.745'\n",
      "b'-0.10698238234932358,1.2163240512053415,-0.36522430755132806,-0.22908029443843958,-0.882749164326441,0.10033860694954831,-0.7525796749398415,0.7168468869747529,1.625'\n",
      "b'1.288836655227388,-0.8404886478565791,0.3436545033445117,-0.2506770906876236,-0.3068931367336545,0.05591751260913,-1.221058824806986,1.1616393831044847,2.783'\n",
      "b'0.7519831792363448,-1.8688949973875395,0.4054779316683507,-0.2332768194594582,1.861464900604635,0.20516532460775205,-0.9165473773933427,1.096669692658571,1.687'\n",
      "b'-0.13704617700482194,-1.7106786359212378,0.12184594280275339,-0.06307880222008,2.714753943075721,0.056106892772399004,-1.1226782033348852,1.1316533721294526,1.709'\n",
      "b'2.646159370379376,0.10880952094123046,0.6722596332593609,-0.026070409696111164,0.3209815811488132,-0.39836221217888085,-0.7244709259478118,0.5969028430746031,5.00001'\n",
      "b'0.052345254135042395,-0.28673138272452353,0.047219258690479195,-0.13983857637224692,0.16218768447504958,-0.01953911964379385,1.2571958779902077,-1.617064300582372,2.441'\n"
     ]
    }
   ],
   "source": [
    "for line in dataset.take(15):\n",
    "    print(line.numpy())"
   ]
  },
  {
   "cell_type": "markdown",
   "metadata": {},
   "source": [
    "### 1.3)\n",
    "We do not care about the header lines, so let's skip them. You can use the `skip()` method for this. Print the first five elements of your final dataset to make sure it does not print any header lines. **Tip**: make sure to call `skip()` for each `TextLineDataset`, not for the interleave dataset."
   ]
  },
  {
   "cell_type": "code",
   "execution_count": 27,
   "metadata": {},
   "outputs": [],
   "source": [
    "dataset = filename_dataset.interleave(\n",
    "    lambda filename: tf.data.TextLineDataset(filename).skip(1),\n",
    "    cycle_length=n_readers)"
   ]
  },
  {
   "cell_type": "code",
   "execution_count": 28,
   "metadata": {},
   "outputs": [
    {
     "name": "stdout",
     "output_type": "stream",
     "text": [
      "b'0.3661819398070748,-0.9987050093228806,0.007818692604893745,-0.006753549832042892,-0.0614014229104222,0.007203678011545701,-0.9446561263853691,0.9367443007917048,2.418'\n",
      "b'0.1985265274512379,1.2954322319384923,-0.13117620706149458,-0.31340495554105857,-0.8508078632713736,-0.04867319506715338,0.8589886006031342,-1.3022111853444742,2.67'\n",
      "b'0.040351161842169386,0.9789995090058892,-0.07691011512531241,-0.2752211829745268,-0.4638618162042714,0.12743389367534086,-0.7806884239318712,0.7568282349414766,1.698'\n",
      "b'-0.3486973864174858,1.849189497070548,-0.03272723737549597,-0.3271307378214623,-0.24392314322509304,-0.26118675558589094,1.0838585925393653,-0.8624163577105846,1.076'\n",
      "b'2.5288372448945045,1.2163240512053415,0.2773089388549313,-0.11517556151933118,-0.6901887493944633,-0.06940325396241541,-0.6776230109610967,0.7018538814872333,4.159'\n"
     ]
    }
   ],
   "source": [
    "for line in dataset.take(5):\n",
    "    print(line.numpy())"
   ]
  },
  {
   "cell_type": "markdown",
   "metadata": {},
   "source": [
    "### 1.4)\n",
    "We need to parse these CSV lines. First, experiment with the `tf.io.decode_csv()` function using the example below (e.g., look at the types, try removing some field values, etc.)."
   ]
  },
  {
   "cell_type": "markdown",
   "metadata": {},
   "source": [
    "Notice that field 4 is interpreted as a string."
   ]
  },
  {
   "cell_type": "code",
   "execution_count": 29,
   "metadata": {},
   "outputs": [
    {
     "data": {
      "text/plain": [
       "[<tf.Tensor: id=324, shape=(), dtype=int32, numpy=1>,\n",
       " <tf.Tensor: id=325, shape=(), dtype=float32, numpy=2.0>,\n",
       " <tf.Tensor: id=326, shape=(), dtype=float64, numpy=3.0>,\n",
       " <tf.Tensor: id=327, shape=(), dtype=string, numpy=b'4'>,\n",
       " <tf.Tensor: id=328, shape=(), dtype=float32, numpy=5.0>]"
      ]
     },
     "execution_count": 29,
     "metadata": {},
     "output_type": "execute_result"
    }
   ],
   "source": [
    "record_defaults=[0, np.nan, tf.constant(np.nan, dtype=tf.float64), \"Hello\", tf.constant([])]\n",
    "parsed_fields = tf.io.decode_csv('1,2,3,4,5', record_defaults)\n",
    "parsed_fields"
   ]
  },
  {
   "cell_type": "markdown",
   "metadata": {},
   "source": [
    "Notice that all missing fields are replaced with their default value, when provided:"
   ]
  },
  {
   "cell_type": "code",
   "execution_count": 30,
   "metadata": {},
   "outputs": [
    {
     "data": {
      "text/plain": [
       "[<tf.Tensor: id=333, shape=(), dtype=int32, numpy=0>,\n",
       " <tf.Tensor: id=334, shape=(), dtype=float32, numpy=nan>,\n",
       " <tf.Tensor: id=335, shape=(), dtype=float64, numpy=nan>,\n",
       " <tf.Tensor: id=336, shape=(), dtype=string, numpy=b'Hello'>,\n",
       " <tf.Tensor: id=337, shape=(), dtype=float32, numpy=5.0>]"
      ]
     },
     "execution_count": 30,
     "metadata": {},
     "output_type": "execute_result"
    }
   ],
   "source": [
    "parsed_fields = tf.io.decode_csv(',,,,5', record_defaults)\n",
    "parsed_fields"
   ]
  },
  {
   "cell_type": "markdown",
   "metadata": {},
   "source": [
    "The 5th field is compulsory (since we provided `tf.constant([])` as the \"default value\"), so we get an exception if we do not provide it:"
   ]
  },
  {
   "cell_type": "code",
   "execution_count": 31,
   "metadata": {},
   "outputs": [
    {
     "name": "stdout",
     "output_type": "stream",
     "text": [
      "Field 4 is required but missing in record 0! [Op:DecodeCSV]\n"
     ]
    }
   ],
   "source": [
    "try:\n",
    "    parsed_fields = tf.io.decode_csv(',,,,', record_defaults)\n",
    "except tf.errors.InvalidArgumentError as ex:\n",
    "    print(ex)"
   ]
  },
  {
   "cell_type": "markdown",
   "metadata": {},
   "source": [
    "The number of fields should match exactly the number of fields in the `record_defaults`:"
   ]
  },
  {
   "cell_type": "code",
   "execution_count": 32,
   "metadata": {},
   "outputs": [
    {
     "name": "stdout",
     "output_type": "stream",
     "text": [
      "Expect 5 fields but have 7 in record 0 [Op:DecodeCSV]\n"
     ]
    }
   ],
   "source": [
    "try:\n",
    "    parsed_fields = tf.io.decode_csv('1,2,3,4,5,6,7', record_defaults)\n",
    "except tf.errors.InvalidArgumentError as ex:\n",
    "    print(ex)"
   ]
  },
  {
   "cell_type": "markdown",
   "metadata": {},
   "source": [
    "### 1.5)\n",
    "Now you are ready to create a function to parse a CSV line:\n",
    "* Create a `parse_csv_line()` function that takes a single line as argument.\n",
    "* Call `tf.io.decode_csv()` to parse that line.\n",
    "* Call `tf.stack()` to create a single tensor containing all the input features (i.e., all fields except the last one).\n",
    "* Reshape the labels field (i.e., the last field) to give it a shape of `[1]` instead of `[]` (i.e., it must not be a scalar). You can use `tf.reshape(label_field, [1])`, or call `tf.stack([label_field])`, or use `label_field[tf.newaxis]`.\n",
    "* Return a tuple with both tensors (input features and labels).\n",
    "* Try calling it on a single line from one of the CSV files."
   ]
  },
  {
   "cell_type": "code",
   "execution_count": 33,
   "metadata": {
    "scrolled": false
   },
   "outputs": [],
   "source": [
    "n_inputs = X_train.shape[1]\n",
    "\n",
    "def parse_csv_line(line, n_inputs=n_inputs):\n",
    "    defs = [tf.constant(np.nan)] * (n_inputs + 1)\n",
    "    fields = tf.io.decode_csv(line, record_defaults=defs)\n",
    "    x = tf.stack(fields[:-1])\n",
    "    y = tf.stack(fields[-1:])\n",
    "    return x, y"
   ]
  },
  {
   "cell_type": "code",
   "execution_count": 34,
   "metadata": {},
   "outputs": [
    {
     "data": {
      "text/plain": [
       "(<tf.Tensor: id=357, shape=(8,), dtype=float32, numpy=\n",
       " array([-0.739841  , -0.36583957, -0.78468   ,  0.07414514,  0.75447065,\n",
       "         0.4077006 , -0.6869926 ,  0.6019005 ], dtype=float32)>,\n",
       " <tf.Tensor: id=358, shape=(1,), dtype=float32, numpy=array([2.], dtype=float32)>)"
      ]
     },
     "execution_count": 34,
     "metadata": {},
     "output_type": "execute_result"
    }
   ],
   "source": [
    "parse_csv_line(b'-0.739840972632228,-0.3658395634576743,-0.784679995482575,0.07414513752253027,0.7544706668961565,0.407700592469922,-0.686992593958441,0.6019005115704453,2.0')"
   ]
  },
  {
   "cell_type": "markdown",
   "metadata": {},
   "source": [
    "### 1.6)\n",
    "Now create a `csv_reader_dataset()` function that takes a list of CSV filenames and returns a dataset that will provide batches of parsed and shuffled data from these files, including the features and labels, repeating the whole data once per epoch."
   ]
  },
  {
   "cell_type": "code",
   "execution_count": 35,
   "metadata": {},
   "outputs": [],
   "source": [
    "def csv_reader_dataset(filenames, n_parse_threads=5, batch_size=32,\n",
    "                       shuffle_buffer_size=10000, n_readers=5):\n",
    "    dataset = tf.data.Dataset.list_files(filenames)\n",
    "    dataset = dataset.repeat()\n",
    "    dataset = dataset.interleave(\n",
    "        lambda filename: tf.data.TextLineDataset(filename).skip(1),\n",
    "        cycle_length=n_readers)\n",
    "    dataset.shuffle(shuffle_buffer_size)\n",
    "    dataset = dataset.map(parse_csv_line, num_parallel_calls=n_parse_threads)\n",
    "    dataset = dataset.batch(batch_size)\n",
    "    return dataset.prefetch(1)"
   ]
  },
  {
   "cell_type": "markdown",
   "metadata": {},
   "source": [
    "This version uses `map_and_batch()` to get a performance boost (but remember that this feature is experimental and will eventually be deprecated, as explained earlier):"
   ]
  },
  {
   "cell_type": "code",
   "execution_count": 36,
   "metadata": {},
   "outputs": [],
   "source": [
    "def csv_reader_dataset(filenames, batch_size=32,\n",
    "                       shuffle_buffer_size=10000, n_readers=5):\n",
    "    dataset = tf.data.Dataset.list_files(filenames)\n",
    "    dataset = dataset.repeat()\n",
    "    dataset = dataset.interleave(\n",
    "        lambda filename: tf.data.TextLineDataset(filename).skip(1),\n",
    "        cycle_length=n_readers)\n",
    "    dataset.shuffle(shuffle_buffer_size)\n",
    "    dataset = dataset.apply(\n",
    "        tf.data.experimental.map_and_batch(\n",
    "            parse_csv_line,\n",
    "            batch_size,\n",
    "            num_parallel_calls=tf.data.experimental.AUTOTUNE))\n",
    "    return dataset.prefetch(1)"
   ]
  },
  {
   "cell_type": "code",
   "execution_count": 37,
   "metadata": {},
   "outputs": [
    {
     "name": "stdout",
     "output_type": "stream",
     "text": [
      "WARNING:tensorflow:From <ipython-input-36-232ce739f0fe>:13: map_and_batch (from tensorflow.python.data.experimental.ops.batching) is deprecated and will be removed in a future version.\n",
      "Instructions for updating:\n",
      "Use `tf.data.Dataset.map(map_func, num_parallel_calls)` followed by `tf.data.Dataset.batch(batch_size, drop_remainder)`. Static tf.data optimizations will take care of using the fused implementation.\n",
      "X = tf.Tensor(\n",
      "[[-0.8336987  -0.2867314   0.14595552 -0.30265072 -0.47025007  0.06980865\n",
      "   0.28275925  0.09213833]\n",
      " [-0.02417601  0.5043504   0.00212128 -0.30513623 -0.24666096 -0.03432783\n",
      "   1.0838586  -1.2322438 ]\n",
      " [ 0.04035116  0.9789995  -0.07691012 -0.27522117 -0.46386182  0.1274339\n",
      "  -0.7806884   0.75682825]], shape=(3, 8), dtype=float32)\n",
      "y = tf.Tensor(\n",
      "[[1.328]\n",
      " [1.598]\n",
      " [1.698]], shape=(3, 1), dtype=float32)\n",
      "\n",
      "X = tf.Tensor(\n",
      "[[ 0.39593148  0.74167496 -0.16415134 -0.403408   -0.61991787 -0.18355484\n",
      "  -1.4084505   1.2565951 ]\n",
      " [ 0.15159768  1.8491895   0.09624145 -0.22151619 -0.66828614 -0.2354931\n",
      "  -0.8978082   0.6368842 ]\n",
      " [-0.632156   -0.2076232  -0.33785862 -0.00990872 -0.48941487 -0.6858277\n",
      "  -0.9540257   0.9367443 ]], shape=(3, 8), dtype=float32)\n",
      "y = tf.Tensor(\n",
      "[[1.504]\n",
      " [3.215]\n",
      " [0.741]], shape=(3, 1), dtype=float32)\n",
      "\n"
     ]
    }
   ],
   "source": [
    "train_set = csv_reader_dataset(train_filenames, batch_size=3)\n",
    "for X_batch, y_batch in train_set.take(2):\n",
    "    print(\"X =\", X_batch)\n",
    "    print(\"y =\", y_batch)\n",
    "    print()"
   ]
  },
  {
   "cell_type": "markdown",
   "metadata": {},
   "source": [
    "### 1.7)\n",
    "Build a training set, a validation set and a test set using your `csv_reader_dataset()` function."
   ]
  },
  {
   "cell_type": "code",
   "execution_count": 38,
   "metadata": {},
   "outputs": [],
   "source": [
    "batch_size = 32\n",
    "train_set = csv_reader_dataset(train_filenames, batch_size)\n",
    "valid_set = csv_reader_dataset(valid_filenames, batch_size)\n",
    "test_set = csv_reader_dataset(test_filenames, batch_size)"
   ]
  },
  {
   "cell_type": "markdown",
   "metadata": {},
   "source": [
    "### 1.8)\n",
    "Build and compile a Keras model for this regression task, and use your datasets to train it, evaluate it and make predictions for the test set."
   ]
  },
  {
   "cell_type": "code",
   "execution_count": 39,
   "metadata": {},
   "outputs": [],
   "source": [
    "model = keras.models.Sequential([\n",
    "    keras.layers.Dense(30, activation=\"relu\", input_shape=[n_inputs]),\n",
    "    keras.layers.Dense(1),\n",
    "])"
   ]
  },
  {
   "cell_type": "code",
   "execution_count": 40,
   "metadata": {},
   "outputs": [],
   "source": [
    "model.compile(loss=\"mse\", optimizer=\"sgd\")"
   ]
  },
  {
   "cell_type": "code",
   "execution_count": 41,
   "metadata": {},
   "outputs": [
    {
     "name": "stdout",
     "output_type": "stream",
     "text": [
      "Train for 362 steps, validate for 120 steps\n",
      "Epoch 1/10\n",
      "362/362 [==============================] - 1s 3ms/step - loss: 0.8544 - val_loss: 1.0649\n",
      "Epoch 2/10\n",
      "362/362 [==============================] - 1s 2ms/step - loss: 0.4580 - val_loss: 1.2698\n",
      "Epoch 3/10\n",
      "362/362 [==============================] - 1s 2ms/step - loss: 0.4419 - val_loss: 4.8901\n",
      "Epoch 4/10\n",
      "362/362 [==============================] - 1s 1ms/step - loss: 0.4378 - val_loss: 8.2195\n",
      "Epoch 5/10\n",
      "362/362 [==============================] - 1s 2ms/step - loss: 0.4759 - val_loss: 1.6524\n",
      "Epoch 6/10\n",
      "362/362 [==============================] - 1s 1ms/step - loss: 0.4107 - val_loss: 0.3963\n",
      "Epoch 7/10\n",
      "362/362 [==============================] - 1s 2ms/step - loss: 0.3907 - val_loss: 0.4110\n",
      "Epoch 8/10\n",
      "362/362 [==============================] - 1s 1ms/step - loss: 0.3864 - val_loss: 0.4192\n",
      "Epoch 9/10\n",
      "362/362 [==============================] - 1s 2ms/step - loss: 0.3806 - val_loss: 0.4024\n",
      "Epoch 10/10\n",
      "362/362 [==============================] - 1s 2ms/step - loss: 0.3792 - val_loss: 0.4123\n"
     ]
    },
    {
     "data": {
      "text/plain": [
       "<tensorflow.python.keras.callbacks.History at 0x7ff3bd672d68>"
      ]
     },
     "execution_count": 41,
     "metadata": {},
     "output_type": "execute_result"
    }
   ],
   "source": [
    "model.fit(train_set, steps_per_epoch=len(X_train) // batch_size, epochs=10,\n",
    "          validation_data=valid_set, validation_steps=len(X_valid) // batch_size)"
   ]
  },
  {
   "cell_type": "code",
   "execution_count": 42,
   "metadata": {},
   "outputs": [
    {
     "name": "stdout",
     "output_type": "stream",
     "text": [
      "161/161 [==============================] - 0s 1ms/step - loss: 0.3689\n"
     ]
    },
    {
     "data": {
      "text/plain": [
       "0.36886169044127376"
      ]
     },
     "execution_count": 42,
     "metadata": {},
     "output_type": "execute_result"
    }
   ],
   "source": [
    "model.evaluate(test_set, steps=len(X_test) // batch_size)"
   ]
  },
  {
   "cell_type": "code",
   "execution_count": 43,
   "metadata": {
    "scrolled": true
   },
   "outputs": [
    {
     "data": {
      "text/plain": [
       "array([[1.5275376 ],\n",
       "       [1.6588354 ],\n",
       "       [2.6210227 ],\n",
       "       ...,\n",
       "       [1.2028109 ],\n",
       "       [3.096624  ],\n",
       "       [0.89682543]], dtype=float32)"
      ]
     },
     "execution_count": 43,
     "metadata": {},
     "output_type": "execute_result"
    }
   ],
   "source": [
    "new_set = test_set.map(lambda X, y: X)\n",
    "model.predict(new_set, steps=len(X_test) // batch_size)"
   ]
  },
  {
   "cell_type": "markdown",
   "metadata": {},
   "source": [
    "![Exercise](https://c1.staticflickr.com/9/8101/8553474140_c50cf08708_b.jpg)"
   ]
  },
  {
   "cell_type": "markdown",
   "metadata": {},
   "source": [
    "## Exercise 2 – The `TFRecord` binary format"
   ]
  },
  {
   "cell_type": "markdown",
   "metadata": {},
   "source": [
    "### Code examples"
   ]
  },
  {
   "cell_type": "markdown",
   "metadata": {},
   "source": [
    "You can walk through these code examples or jump down to the [actual exercise](#Actual-exercise) below."
   ]
  },
  {
   "cell_type": "code",
   "execution_count": 44,
   "metadata": {},
   "outputs": [
    {
     "data": {
      "text/plain": [
       "value: \"Arluk\"\n",
       "value: \"Fahrenheit 451\"\n",
       "value: \"L\\'\\303\\251tranger\""
      ]
     },
     "execution_count": 44,
     "metadata": {},
     "output_type": "execute_result"
    }
   ],
   "source": [
    "favorite_books = [name.encode(\"utf-8\")\n",
    "                  for name in [\"Arluk\", \"Fahrenheit 451\", \"L'étranger\"]]\n",
    "favorite_books = tf.train.BytesList(value=favorite_books)\n",
    "favorite_books"
   ]
  },
  {
   "cell_type": "code",
   "execution_count": 45,
   "metadata": {},
   "outputs": [
    {
     "data": {
      "text/plain": [
       "value: 15.5\n",
       "value: 9.5\n",
       "value: nan\n",
       "value: 6.0\n",
       "value: 9.0"
      ]
     },
     "execution_count": 45,
     "metadata": {},
     "output_type": "execute_result"
    }
   ],
   "source": [
    "hours_per_month = tf.train.FloatList(value=[15.5, 9.5, np.nan, 6.0, 9.0])\n",
    "hours_per_month"
   ]
  },
  {
   "cell_type": "code",
   "execution_count": 46,
   "metadata": {},
   "outputs": [
    {
     "data": {
      "text/plain": [
       "value: 42"
      ]
     },
     "execution_count": 46,
     "metadata": {},
     "output_type": "execute_result"
    }
   ],
   "source": [
    "age = tf.train.Int64List(value=[42])\n",
    "age"
   ]
  },
  {
   "cell_type": "code",
   "execution_count": 47,
   "metadata": {},
   "outputs": [
    {
     "data": {
      "text/plain": [
       "value: 1.283400058746338\n",
       "value: 103.86070251464844"
      ]
     },
     "execution_count": 47,
     "metadata": {},
     "output_type": "execute_result"
    }
   ],
   "source": [
    "coordinates = tf.train.FloatList(value=[1.2834, 103.8607])\n",
    "coordinates"
   ]
  },
  {
   "cell_type": "code",
   "execution_count": 48,
   "metadata": {},
   "outputs": [
    {
     "data": {
      "text/plain": [
       "feature {\n",
       "  key: \"age\"\n",
       "  value {\n",
       "    int64_list {\n",
       "      value: 42\n",
       "    }\n",
       "  }\n",
       "}\n",
       "feature {\n",
       "  key: \"coordinates\"\n",
       "  value {\n",
       "    float_list {\n",
       "      value: 1.283400058746338\n",
       "      value: 103.86070251464844\n",
       "    }\n",
       "  }\n",
       "}\n",
       "feature {\n",
       "  key: \"favorite_books\"\n",
       "  value {\n",
       "    bytes_list {\n",
       "      value: \"Arluk\"\n",
       "      value: \"Fahrenheit 451\"\n",
       "      value: \"L\\'\\303\\251tranger\"\n",
       "    }\n",
       "  }\n",
       "}\n",
       "feature {\n",
       "  key: \"hours_per_month\"\n",
       "  value {\n",
       "    float_list {\n",
       "      value: 15.5\n",
       "      value: 9.5\n",
       "      value: nan\n",
       "      value: 6.0\n",
       "      value: 9.0\n",
       "    }\n",
       "  }\n",
       "}"
      ]
     },
     "execution_count": 48,
     "metadata": {},
     "output_type": "execute_result"
    }
   ],
   "source": [
    "features = tf.train.Features(\n",
    "    feature={\n",
    "        \"favorite_books\": tf.train.Feature(bytes_list=favorite_books),\n",
    "        \"hours_per_month\": tf.train.Feature(float_list=hours_per_month),\n",
    "        \"age\": tf.train.Feature(int64_list=age),\n",
    "        \"coordinates\": tf.train.Feature(float_list=coordinates),\n",
    "    }\n",
    ")\n",
    "features"
   ]
  },
  {
   "cell_type": "code",
   "execution_count": 49,
   "metadata": {},
   "outputs": [
    {
     "data": {
      "text/plain": [
       "features {\n",
       "  feature {\n",
       "    key: \"age\"\n",
       "    value {\n",
       "      int64_list {\n",
       "        value: 42\n",
       "      }\n",
       "    }\n",
       "  }\n",
       "  feature {\n",
       "    key: \"coordinates\"\n",
       "    value {\n",
       "      float_list {\n",
       "        value: 1.283400058746338\n",
       "        value: 103.86070251464844\n",
       "      }\n",
       "    }\n",
       "  }\n",
       "  feature {\n",
       "    key: \"favorite_books\"\n",
       "    value {\n",
       "      bytes_list {\n",
       "        value: \"Arluk\"\n",
       "        value: \"Fahrenheit 451\"\n",
       "        value: \"L\\'\\303\\251tranger\"\n",
       "      }\n",
       "    }\n",
       "  }\n",
       "  feature {\n",
       "    key: \"hours_per_month\"\n",
       "    value {\n",
       "      float_list {\n",
       "        value: 15.5\n",
       "        value: 9.5\n",
       "        value: nan\n",
       "        value: 6.0\n",
       "        value: 9.0\n",
       "      }\n",
       "    }\n",
       "  }\n",
       "}"
      ]
     },
     "execution_count": 49,
     "metadata": {},
     "output_type": "execute_result"
    }
   ],
   "source": [
    "example = tf.train.Example(features=features)\n",
    "example"
   ]
  },
  {
   "cell_type": "code",
   "execution_count": 50,
   "metadata": {},
   "outputs": [
    {
     "data": {
      "text/plain": [
       "b\"\\n\\x92\\x01\\n+\\n\\x0fhours_per_month\\x12\\x18\\x12\\x16\\n\\x14\\x00\\x00xA\\x00\\x00\\x18A\\x00\\x00\\xc0\\x7f\\x00\\x00\\xc0@\\x00\\x00\\x10A\\n8\\n\\x0efavorite_books\\x12&\\n$\\n\\x05Arluk\\n\\x0eFahrenheit 451\\n\\x0bL'\\xc3\\xa9tranger\\n\\x0c\\n\\x03age\\x12\\x05\\x1a\\x03\\n\\x01*\\n\\x1b\\n\\x0bcoordinates\\x12\\x0c\\x12\\n\\n\\x08tF\\xa4?\\xae\\xb8\\xcfB\""
      ]
     },
     "execution_count": 50,
     "metadata": {},
     "output_type": "execute_result"
    }
   ],
   "source": [
    "serialized_example = example.SerializeToString()\n",
    "serialized_example"
   ]
  },
  {
   "cell_type": "code",
   "execution_count": 51,
   "metadata": {},
   "outputs": [],
   "source": [
    "filename = \"my_reading_data.tfrecords\"\n",
    "with tf.io.TFRecordWriter(filename) as writer:\n",
    "    for i in range(3): # you should save different examples instead! :)\n",
    "        writer.write(serialized_example)"
   ]
  },
  {
   "cell_type": "code",
   "execution_count": 52,
   "metadata": {},
   "outputs": [
    {
     "name": "stdout",
     "output_type": "stream",
     "text": [
      "tf.Tensor(b\"\\n\\x92\\x01\\n+\\n\\x0fhours_per_month\\x12\\x18\\x12\\x16\\n\\x14\\x00\\x00xA\\x00\\x00\\x18A\\x00\\x00\\xc0\\x7f\\x00\\x00\\xc0@\\x00\\x00\\x10A\\n8\\n\\x0efavorite_books\\x12&\\n$\\n\\x05Arluk\\n\\x0eFahrenheit 451\\n\\x0bL'\\xc3\\xa9tranger\\n\\x0c\\n\\x03age\\x12\\x05\\x1a\\x03\\n\\x01*\\n\\x1b\\n\\x0bcoordinates\\x12\\x0c\\x12\\n\\n\\x08tF\\xa4?\\xae\\xb8\\xcfB\", shape=(), dtype=string)\n",
      "tf.Tensor(b\"\\n\\x92\\x01\\n+\\n\\x0fhours_per_month\\x12\\x18\\x12\\x16\\n\\x14\\x00\\x00xA\\x00\\x00\\x18A\\x00\\x00\\xc0\\x7f\\x00\\x00\\xc0@\\x00\\x00\\x10A\\n8\\n\\x0efavorite_books\\x12&\\n$\\n\\x05Arluk\\n\\x0eFahrenheit 451\\n\\x0bL'\\xc3\\xa9tranger\\n\\x0c\\n\\x03age\\x12\\x05\\x1a\\x03\\n\\x01*\\n\\x1b\\n\\x0bcoordinates\\x12\\x0c\\x12\\n\\n\\x08tF\\xa4?\\xae\\xb8\\xcfB\", shape=(), dtype=string)\n",
      "tf.Tensor(b\"\\n\\x92\\x01\\n+\\n\\x0fhours_per_month\\x12\\x18\\x12\\x16\\n\\x14\\x00\\x00xA\\x00\\x00\\x18A\\x00\\x00\\xc0\\x7f\\x00\\x00\\xc0@\\x00\\x00\\x10A\\n8\\n\\x0efavorite_books\\x12&\\n$\\n\\x05Arluk\\n\\x0eFahrenheit 451\\n\\x0bL'\\xc3\\xa9tranger\\n\\x0c\\n\\x03age\\x12\\x05\\x1a\\x03\\n\\x01*\\n\\x1b\\n\\x0bcoordinates\\x12\\x0c\\x12\\n\\n\\x08tF\\xa4?\\xae\\xb8\\xcfB\", shape=(), dtype=string)\n"
     ]
    }
   ],
   "source": [
    "for serialized_example_tensor in tf.data.TFRecordDataset([filename]):\n",
    "    print(serialized_example_tensor)"
   ]
  },
  {
   "cell_type": "code",
   "execution_count": 53,
   "metadata": {},
   "outputs": [],
   "source": [
    "filename = \"my_reading_data.tfrecords\"\n",
    "options = tf.io.TFRecordOptions(compression_type=\"GZIP\")\n",
    "with tf.io.TFRecordWriter(filename, options) as writer:\n",
    "    for i in range(3): # you should save different examples instead! :)\n",
    "        writer.write(serialized_example)"
   ]
  },
  {
   "cell_type": "code",
   "execution_count": 54,
   "metadata": {},
   "outputs": [
    {
     "name": "stdout",
     "output_type": "stream",
     "text": [
      "tf.Tensor(b\"\\n\\x92\\x01\\n+\\n\\x0fhours_per_month\\x12\\x18\\x12\\x16\\n\\x14\\x00\\x00xA\\x00\\x00\\x18A\\x00\\x00\\xc0\\x7f\\x00\\x00\\xc0@\\x00\\x00\\x10A\\n8\\n\\x0efavorite_books\\x12&\\n$\\n\\x05Arluk\\n\\x0eFahrenheit 451\\n\\x0bL'\\xc3\\xa9tranger\\n\\x0c\\n\\x03age\\x12\\x05\\x1a\\x03\\n\\x01*\\n\\x1b\\n\\x0bcoordinates\\x12\\x0c\\x12\\n\\n\\x08tF\\xa4?\\xae\\xb8\\xcfB\", shape=(), dtype=string)\n",
      "tf.Tensor(b\"\\n\\x92\\x01\\n+\\n\\x0fhours_per_month\\x12\\x18\\x12\\x16\\n\\x14\\x00\\x00xA\\x00\\x00\\x18A\\x00\\x00\\xc0\\x7f\\x00\\x00\\xc0@\\x00\\x00\\x10A\\n8\\n\\x0efavorite_books\\x12&\\n$\\n\\x05Arluk\\n\\x0eFahrenheit 451\\n\\x0bL'\\xc3\\xa9tranger\\n\\x0c\\n\\x03age\\x12\\x05\\x1a\\x03\\n\\x01*\\n\\x1b\\n\\x0bcoordinates\\x12\\x0c\\x12\\n\\n\\x08tF\\xa4?\\xae\\xb8\\xcfB\", shape=(), dtype=string)\n",
      "tf.Tensor(b\"\\n\\x92\\x01\\n+\\n\\x0fhours_per_month\\x12\\x18\\x12\\x16\\n\\x14\\x00\\x00xA\\x00\\x00\\x18A\\x00\\x00\\xc0\\x7f\\x00\\x00\\xc0@\\x00\\x00\\x10A\\n8\\n\\x0efavorite_books\\x12&\\n$\\n\\x05Arluk\\n\\x0eFahrenheit 451\\n\\x0bL'\\xc3\\xa9tranger\\n\\x0c\\n\\x03age\\x12\\x05\\x1a\\x03\\n\\x01*\\n\\x1b\\n\\x0bcoordinates\\x12\\x0c\\x12\\n\\n\\x08tF\\xa4?\\xae\\xb8\\xcfB\", shape=(), dtype=string)\n"
     ]
    }
   ],
   "source": [
    "dataset = tf.data.TFRecordDataset([filename], compression_type=\"GZIP\")\n",
    "for serialized_example_tensor in dataset:\n",
    "    print(serialized_example_tensor)"
   ]
  },
  {
   "cell_type": "code",
   "execution_count": 55,
   "metadata": {},
   "outputs": [
    {
     "name": "stdout",
     "output_type": "stream",
     "text": [
      "Arluk\tFahrenheit 451\tL'étranger\t\n",
      "Arluk\tFahrenheit 451\tL'étranger\t\n",
      "Arluk\tFahrenheit 451\tL'étranger\t\n"
     ]
    }
   ],
   "source": [
    "expected_features = {\n",
    "    \"favorite_books\": tf.io.VarLenFeature(dtype=tf.string),\n",
    "    \"hours_per_month\": tf.io.VarLenFeature(dtype=tf.float32),\n",
    "    \"age\": tf.io.FixedLenFeature([], dtype=tf.int64),\n",
    "    \"coordinates\": tf.io.FixedLenFeature([2], dtype=tf.float32),\n",
    "}\n",
    "\n",
    "for serialized_example_tensor in tf.data.TFRecordDataset(\n",
    "        [filename], compression_type=\"GZIP\"):\n",
    "    example = tf.io.parse_single_example(serialized_example_tensor,\n",
    "                                         expected_features)\n",
    "    books = tf.sparse.to_dense(example[\"favorite_books\"],\n",
    "                               default_value=b\"\")\n",
    "    for book in books:\n",
    "        print(book.numpy().decode('UTF-8'), end=\"\\t\")\n",
    "    print()"
   ]
  },
  {
   "cell_type": "markdown",
   "metadata": {},
   "source": [
    "## Actual exercise"
   ]
  },
  {
   "cell_type": "markdown",
   "metadata": {},
   "source": [
    "### 2.1)\n",
    "Write a `csv_to_tfrecords()` function that will read from a given CSV dataset (e.g., such as `train_set`, passed as an argument), and write the instances to multiple TFRecord files. The number of files should be defined by an `n_shards` argument. If there are, say, 20 shards, then the files should be named `my_train_00000-to-00019.tfrecords` to `my_train_00019-to-00019.tfrecords`, where the `my_train` prefix should be defined by an argument.\n",
    "\n",
    "**Tips**:\n",
    "* since the CSV dataset repeats the dataset forever, the function should take an argument defining the number of steps per shard, and you should use `take()` to pull only the appropriate number of batches from the CSV dataset for each shard.\n",
    "* to format 19 as `\"00019\"`, you can use `\"{:05d}\".format(19)`."
   ]
  },
  {
   "cell_type": "code",
   "execution_count": null,
   "metadata": {},
   "outputs": [],
   "source": []
  },
  {
   "cell_type": "code",
   "execution_count": null,
   "metadata": {},
   "outputs": [],
   "source": []
  },
  {
   "cell_type": "code",
   "execution_count": null,
   "metadata": {},
   "outputs": [],
   "source": []
  },
  {
   "cell_type": "markdown",
   "metadata": {},
   "source": [
    "### 2.2)\n",
    "Use this function to write the training set, validation set and test set to multiple TFRecord files."
   ]
  },
  {
   "cell_type": "code",
   "execution_count": null,
   "metadata": {},
   "outputs": [],
   "source": []
  },
  {
   "cell_type": "code",
   "execution_count": null,
   "metadata": {},
   "outputs": [],
   "source": []
  },
  {
   "cell_type": "code",
   "execution_count": null,
   "metadata": {},
   "outputs": [],
   "source": []
  },
  {
   "cell_type": "markdown",
   "metadata": {},
   "source": [
    "### 2.3)\n",
    "Write a `tfrecords_reader_dataset()` function, very similar to `csv_reader_dataset()`, that will read from multiple TFRecord files. For convenience, it should take a file prefix (such as `\"my_train\"`) and use `os.listdir()` to look for all the TFRecord files with that prefix.\n",
    "\n",
    "**Tips**:\n",
    "* You can mostly reuse `csv_reader_dataset()`, except it will use a different parsing function (based on `tf.io.parse_single_example()` instead of `tf.io.parse_csv_line()`).\n",
    "* The parsing function should return `(input features, label)`, not a `tf.train.Example`."
   ]
  },
  {
   "cell_type": "code",
   "execution_count": null,
   "metadata": {},
   "outputs": [],
   "source": []
  },
  {
   "cell_type": "code",
   "execution_count": null,
   "metadata": {},
   "outputs": [],
   "source": []
  },
  {
   "cell_type": "code",
   "execution_count": null,
   "metadata": {},
   "outputs": [],
   "source": []
  },
  {
   "cell_type": "markdown",
   "metadata": {},
   "source": [
    "### 2.4)\n",
    "Create one dataset for each dataset (`tfrecords_train_set`, `tfrecords_valid_set` and `tfrecords_test_set`), and build, train and evaluate a Keras model using them."
   ]
  },
  {
   "cell_type": "code",
   "execution_count": null,
   "metadata": {},
   "outputs": [],
   "source": []
  },
  {
   "cell_type": "code",
   "execution_count": null,
   "metadata": {},
   "outputs": [],
   "source": []
  },
  {
   "cell_type": "code",
   "execution_count": null,
   "metadata": {},
   "outputs": [],
   "source": []
  },
  {
   "cell_type": "markdown",
   "metadata": {},
   "source": [
    "![Exercise solution](https://camo.githubusercontent.com/250388fde3fac9135ead9471733ee28e049f7a37/68747470733a2f2f75706c6f61642e77696b696d656469612e6f72672f77696b6970656469612f636f6d6d6f6e732f302f30362f46696c6f735f736567756e646f5f6c6f676f5f253238666c69707065642532392e6a7067)"
   ]
  },
  {
   "cell_type": "markdown",
   "metadata": {},
   "source": [
    "## Exercise 2 – Solution"
   ]
  },
  {
   "cell_type": "markdown",
   "metadata": {},
   "source": [
    "### 2.1)\n",
    "Write a `csv_to_tfrecords()` function that will read from a given CSV dataset (e.g., such as `train_set`, passed as an argument), and write the instances to multiple TFRecord files. The number of files should be defined by an `n_shards` argument. If there are, say, 20 shards, then the files should be named `my_train_00000-to-00019.tfrecords` to `my_train_00019-to-00019.tfrecords`, where the `my_train` prefix should be defined by an argument."
   ]
  },
  {
   "cell_type": "code",
   "execution_count": 56,
   "metadata": {},
   "outputs": [],
   "source": [
    "def serialize_example(x, y):\n",
    "    input_features = tf.train.FloatList(value=x)\n",
    "    label = tf.train.FloatList(value=y)\n",
    "    features = tf.train.Features(\n",
    "        feature = {\n",
    "            \"input_features\": tf.train.Feature(float_list=input_features),\n",
    "            \"label\": tf.train.Feature(float_list=label),\n",
    "        }\n",
    "    )\n",
    "    example = tf.train.Example(features=features)\n",
    "    return example.SerializeToString()"
   ]
  },
  {
   "cell_type": "code",
   "execution_count": 57,
   "metadata": {},
   "outputs": [],
   "source": [
    "def csv_to_tfrecords(filename, csv_reader_dataset, n_shards, steps_per_shard,\n",
    "                     compression_type=None):\n",
    "    options = tf.io.TFRecordOptions(compression_type=compression_type)\n",
    "    for shard in range(n_shards):\n",
    "        path = \"{}_{:05d}-of-{:05d}.tfrecords\".format(filename, shard, n_shards)\n",
    "        with tf.io.TFRecordWriter(path, options) as writer:\n",
    "            for X_batch, y_batch in csv_reader_dataset.take(steps_per_shard):\n",
    "                for x_instance, y_instance in zip(X_batch, y_batch):\n",
    "                    writer.write(serialize_example(x_instance, y_instance))"
   ]
  },
  {
   "cell_type": "markdown",
   "metadata": {},
   "source": [
    "### 2.2)\n",
    "Use this function to write the training set, validation set and test set to multiple TFRecord files."
   ]
  },
  {
   "cell_type": "code",
   "execution_count": 58,
   "metadata": {},
   "outputs": [],
   "source": [
    "batch_size = 32\n",
    "n_shards = 20\n",
    "steps_per_shard = len(X_train) // batch_size // n_shards\n",
    "csv_to_tfrecords(\"my_train.tfrecords\", train_set, n_shards, steps_per_shard)\n",
    "\n",
    "n_shards = 1\n",
    "steps_per_shard = len(X_valid) // batch_size // n_shards\n",
    "csv_to_tfrecords(\"my_valid.tfrecords\", valid_set, n_shards, steps_per_shard)\n",
    "\n",
    "n_shards = 1\n",
    "steps_per_shard = len(X_test) // batch_size // n_shards\n",
    "csv_to_tfrecords(\"my_test.tfrecords\", test_set, n_shards, steps_per_shard)"
   ]
  },
  {
   "cell_type": "markdown",
   "metadata": {},
   "source": [
    "### 2.3)\n",
    "Write a `tfrecords_reader_dataset()` function, very similar to `csv_reader_dataset()`, that will read from multiple TFRecord files. For convenience, it should take a file prefix (such as `\"my_train\"`) and use `os.listdir()` to look for all the TFRecord files with that prefix."
   ]
  },
  {
   "cell_type": "code",
   "execution_count": 59,
   "metadata": {},
   "outputs": [],
   "source": [
    "expected_features = {\n",
    "    \"input_features\": tf.io.FixedLenFeature([n_inputs], dtype=tf.float32),\n",
    "    \"label\": tf.io.FixedLenFeature([1], dtype=tf.float32),\n",
    "}\n",
    "\n",
    "def parse_tfrecord(serialized_example):\n",
    "    example = tf.io.parse_single_example(serialized_example,\n",
    "                                         expected_features)\n",
    "    return example[\"input_features\"], example[\"label\"]"
   ]
  },
  {
   "cell_type": "code",
   "execution_count": 60,
   "metadata": {},
   "outputs": [],
   "source": [
    "def tfrecords_reader_dataset(filename, batch_size=32,\n",
    "                             shuffle_buffer_size=10000, n_readers=5):\n",
    "    filenames = [name for name in os.listdir() if name.startswith(filename)\n",
    "                                              and name.endswith(\".tfrecords\")]\n",
    "    dataset = tf.data.Dataset.list_files(filenames)\n",
    "    dataset = dataset.repeat()\n",
    "    dataset = dataset.interleave(\n",
    "        lambda filename: tf.data.TFRecordDataset(filename),\n",
    "        cycle_length=n_readers)\n",
    "    dataset.shuffle(shuffle_buffer_size)\n",
    "    dataset = dataset.apply(\n",
    "        tf.data.experimental.map_and_batch(\n",
    "            parse_tfrecord,\n",
    "            batch_size,\n",
    "            num_parallel_calls=tf.data.experimental.AUTOTUNE))\n",
    "    return dataset.prefetch(1)"
   ]
  },
  {
   "cell_type": "code",
   "execution_count": 61,
   "metadata": {},
   "outputs": [
    {
     "name": "stdout",
     "output_type": "stream",
     "text": [
      "X = tf.Tensor(\n",
      "[[ 2.5288372e+00  1.2163241e+00  2.7730894e-01 -1.1517556e-01\n",
      "  -6.9018877e-01 -6.9403253e-02 -6.7762303e-01  7.0185387e-01]\n",
      " [-8.9361674e-01  9.7899950e-01 -6.8105489e-01 -7.2641991e-02\n",
      "  -5.6698656e-01 -3.9212450e-01 -1.3522329e+00  1.2316067e+00]\n",
      " [-4.5570144e-01 -5.2405590e-01 -1.8509613e-01  2.5173270e-03\n",
      "  -7.3855698e-01 -2.0285924e-01  1.4586419e+00 -5.0758189e-01]], shape=(3, 8), dtype=float32)\n",
      "y = tf.Tensor(\n",
      "[[4.159]\n",
      " [1.205]\n",
      " [1.069]], shape=(3, 1), dtype=float32)\n",
      "\n",
      "X = tf.Tensor(\n",
      "[[ 0.36618194 -0.998705    0.00781869 -0.00675355 -0.06140142  0.00720368\n",
      "  -0.94465613  0.9367443 ]\n",
      " [ 0.36618194 -0.998705    0.00781869 -0.00675355 -0.06140142  0.00720368\n",
      "  -0.94465613  0.9367443 ]\n",
      " [-0.19397883 -1.0778131  -0.9433854   0.01485314  0.02073335 -0.57291627\n",
      "   0.9292605  -1.4221553 ]], shape=(3, 8), dtype=float32)\n",
      "y = tf.Tensor(\n",
      "[[2.418]\n",
      " [2.418]\n",
      " [1.442]], shape=(3, 1), dtype=float32)\n",
      "\n"
     ]
    }
   ],
   "source": [
    "tfrecords_train_set = tfrecords_reader_dataset(\"my_train\", batch_size=3)\n",
    "for X_batch, y_batch in tfrecords_train_set.take(2):\n",
    "    print(\"X =\", X_batch)\n",
    "    print(\"y =\", y_batch)\n",
    "    print()"
   ]
  },
  {
   "cell_type": "markdown",
   "metadata": {},
   "source": [
    "### 2.4)\n",
    "Create one dataset for each dataset (`tfrecords_train_set`, `tfrecords_valid_set` and `tfrecords_test_set`), and build, train and evaluate a Keras model using them."
   ]
  },
  {
   "cell_type": "code",
   "execution_count": 62,
   "metadata": {},
   "outputs": [],
   "source": [
    "batch_size = 32\n",
    "tfrecords_train_set = tfrecords_reader_dataset(\"my_train\", batch_size)\n",
    "tfrecords_valid_set = tfrecords_reader_dataset(\"my_valid\", batch_size)\n",
    "tfrecords_test_set = tfrecords_reader_dataset(\"my_test\", batch_size)"
   ]
  },
  {
   "cell_type": "code",
   "execution_count": 63,
   "metadata": {},
   "outputs": [],
   "source": [
    "model = keras.models.Sequential([\n",
    "    keras.layers.Dense(30, activation=\"relu\", input_shape=[n_inputs]),\n",
    "    keras.layers.Dense(1),\n",
    "])"
   ]
  },
  {
   "cell_type": "code",
   "execution_count": 64,
   "metadata": {},
   "outputs": [],
   "source": [
    "model.compile(loss=\"mse\", optimizer=\"sgd\")"
   ]
  },
  {
   "cell_type": "code",
   "execution_count": 65,
   "metadata": {},
   "outputs": [
    {
     "name": "stdout",
     "output_type": "stream",
     "text": [
      "Train for 362 steps, validate for 120 steps\n",
      "Epoch 1/10\n",
      "362/362 [==============================] - 1s 2ms/step - loss: 0.8858 - val_loss: 0.5515\n",
      "Epoch 2/10\n",
      "362/362 [==============================] - 0s 1ms/step - loss: 0.4910 - val_loss: 0.4943\n",
      "Epoch 3/10\n",
      "362/362 [==============================] - 0s 1ms/step - loss: 0.4358 - val_loss: 0.4539\n",
      "Epoch 4/10\n",
      "362/362 [==============================] - 0s 1ms/step - loss: 0.4156 - val_loss: 0.4274\n",
      "Epoch 5/10\n",
      "362/362 [==============================] - 0s 1ms/step - loss: 0.4043 - val_loss: 0.4118\n",
      "Epoch 6/10\n",
      "362/362 [==============================] - 0s 1ms/step - loss: 0.3910 - val_loss: 0.4129\n",
      "Epoch 7/10\n",
      "362/362 [==============================] - 0s 1ms/step - loss: 0.3854 - val_loss: 0.4068\n",
      "Epoch 8/10\n",
      "362/362 [==============================] - 0s 1ms/step - loss: 0.3763 - val_loss: 0.3981\n",
      "Epoch 9/10\n",
      "362/362 [==============================] - 0s 1ms/step - loss: 0.3715 - val_loss: 0.3969\n",
      "Epoch 10/10\n",
      "362/362 [==============================] - 0s 1ms/step - loss: 0.3679 - val_loss: 0.3925\n"
     ]
    },
    {
     "data": {
      "text/plain": [
       "<tensorflow.python.keras.callbacks.History at 0x7ff3bd1be080>"
      ]
     },
     "execution_count": 65,
     "metadata": {},
     "output_type": "execute_result"
    }
   ],
   "source": [
    "model.fit(tfrecords_train_set, steps_per_epoch=len(X_train) // batch_size, epochs=10,\n",
    "          validation_data=tfrecords_valid_set, validation_steps=len(X_valid) // batch_size)"
   ]
  },
  {
   "cell_type": "code",
   "execution_count": 66,
   "metadata": {},
   "outputs": [
    {
     "name": "stdout",
     "output_type": "stream",
     "text": [
      "161/161 [==============================] - 0s 706us/step - loss: 0.3743\n"
     ]
    },
    {
     "data": {
      "text/plain": [
       "0.37433373983602347"
      ]
     },
     "execution_count": 66,
     "metadata": {},
     "output_type": "execute_result"
    }
   ],
   "source": [
    "model.evaluate(tfrecords_test_set, steps=len(X_test) // batch_size)"
   ]
  },
  {
   "cell_type": "code",
   "execution_count": 67,
   "metadata": {
    "scrolled": true
   },
   "outputs": [
    {
     "data": {
      "text/plain": [
       "array([[0.72890425],\n",
       "       [2.4686651 ],\n",
       "       [2.4289093 ],\n",
       "       ...,\n",
       "       [3.1484387 ],\n",
       "       [2.6227086 ],\n",
       "       [2.94121   ]], dtype=float32)"
      ]
     },
     "execution_count": 67,
     "metadata": {},
     "output_type": "execute_result"
    }
   ],
   "source": [
    "new_set = test_set.map(lambda X, y: X)\n",
    "model.predict(new_set, steps=len(X_test) // batch_size)"
   ]
  },
  {
   "cell_type": "code",
   "execution_count": null,
   "metadata": {},
   "outputs": [],
   "source": []
  }
 ],
 "metadata": {
  "kernelspec": {
   "display_name": ".tf2_practice",
   "language": "python",
   "name": ".tf2_practice"
  },
  "language_info": {
   "codemirror_mode": {
    "name": "ipython",
    "version": 3
   },
   "file_extension": ".py",
   "mimetype": "text/x-python",
   "name": "python",
   "nbconvert_exporter": "python",
   "pygments_lexer": "ipython3",
   "version": "3.7.2"
  }
 },
 "nbformat": 4,
 "nbformat_minor": 2
}
